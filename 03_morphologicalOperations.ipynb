{
  "nbformat": 4,
  "nbformat_minor": 0,
  "metadata": {
    "colab": {
      "provenance": [],
      "authorship_tag": "ABX9TyMpoEyObU2RhVUdxnQpyCwP",
      "include_colab_link": true
    },
    "kernelspec": {
      "name": "python3",
      "display_name": "Python 3"
    },
    "language_info": {
      "name": "python"
    }
  },
  "cells": [
    {
      "cell_type": "markdown",
      "metadata": {
        "id": "view-in-github",
        "colab_type": "text"
      },
      "source": [
        "<a href=\"https://colab.research.google.com/github/GUmarEla/Image_Processing/blob/main/III_morphologicalOperations.ipynb\" target=\"_parent\"><img src=\"https://colab.research.google.com/assets/colab-badge.svg\" alt=\"Open In Colab\"/></a>"
      ]
    },
    {
      "cell_type": "markdown",
      "source": [
        "### Introduction"
      ],
      "metadata": {
        "id": "X3_PqZNrbpC3"
      }
    },
    {
      "cell_type": "markdown",
      "source": [
        "Erosion and dilation could both be categorized in image filterig as non linear/ spatial filters"
      ],
      "metadata": {
        "id": "0bAMoj8rQFD8"
      }
    },
    {
      "cell_type": "markdown",
      "source": [
        "\n",
        "*kernel_dimension should an odd number: 3, 5 ...*\n",
        "\n",
        "Erosion/ Dilation\n",
        "*   erosion(image, kernel_dimension)\n",
        "*   dilation(image, kernel_dimension)\n",
        "\n",
        "Opening/ Closing\n",
        "\n",
        "*   opening(image, kernel_dimension)\n",
        "*   closing(image, kernel_dimension)\n",
        "\n",
        "Gradient/ Inverse Gradient\n",
        "\n",
        "*   gradient(image, kernel_dimension)\n",
        "*   inverse_gradient(image, kernel_dimension)\n",
        "\n",
        "Top-Hat/ Black-Hat Transformations\n",
        "\n",
        "\n",
        "*   top_hat(image, kernel_dimension)\n",
        "*   black_hat(image, kernel_dimension)"
      ],
      "metadata": {
        "id": "Rma5Pu1F3HJT"
      }
    },
    {
      "cell_type": "markdown",
      "source": [
        "### Import libraries"
      ],
      "metadata": {
        "id": "8dTH1ODgLz8I"
      }
    },
    {
      "cell_type": "code",
      "source": [
        "import numpy as np\n",
        "import matplotlib.pyplot as plt\n",
        "import cv2"
      ],
      "metadata": {
        "id": "rnnjUlkZL4LO"
      },
      "execution_count": null,
      "outputs": []
    },
    {
      "cell_type": "markdown",
      "source": [
        "### Load image"
      ],
      "metadata": {
        "id": "TAcp6Vg5Liz_"
      }
    },
    {
      "cell_type": "code",
      "source": [
        "# Import necessary libraries\n",
        "import numpy as np\n",
        "import requests\n",
        "import cv2\n",
        "\n",
        "# Define the image URL\n",
        "# url = 'https://boofcv.org/images/thumb/6/66/Kodim17_noisy.jpg/300px-Kodim17_noisy.jpg'\n",
        "# url = 'https://i.sstatic.net/fkdjn.jpg'\n",
        "\n",
        "url = 'https://encrypted-tbn0.gstatic.com/images?q=tbn:ANd9GcR2N9OK2YKfUJp-zElKfTpuBbrUSfn1YFqp7A&s'\n",
        "\n",
        "# Download the image\n",
        "response = requests.get(url)\n",
        "img_data = response.content\n",
        "\n",
        "# Convert image data to a NumPy array\n",
        "img_array = np.frombuffer(img_data, np.uint8)\n",
        "\n",
        "# Decode the images\n",
        "image = cv2.imdecode(img_array, cv2.IMREAD_COLOR)\n",
        "image_gray = cv2.cvtColor(image, cv2.COLOR_BGR2GRAY)\n",
        "image_color = cv2.cvtColor(image, cv2.COLOR_BGR2RGB)"
      ],
      "metadata": {
        "id": "Xfo4p1lGLiMn"
      },
      "execution_count": null,
      "outputs": []
    },
    {
      "cell_type": "markdown",
      "source": [
        "### Erosion/ Dilation"
      ],
      "metadata": {
        "id": "YWWQqrgY26st"
      }
    },
    {
      "cell_type": "markdown",
      "source": [
        "**Erosion**"
      ],
      "metadata": {
        "id": "6j8aae2NLe5F"
      }
    },
    {
      "cell_type": "code",
      "execution_count": null,
      "metadata": {
        "id": "GQ1snEvPJgNX"
      },
      "outputs": [],
      "source": [
        "import numpy as np\n",
        "import cv2\n",
        "\n",
        "def erosion_channel(image, kernel_dimension):\n",
        "  d = kernel_dimension // 2\n",
        "  hei, wid = image.shape[:2]\n",
        "\n",
        "  # Add padding to image\n",
        "  padded_image = np.pad(image, d, mode='reflect')\n",
        "\n",
        "  # moving matrix dot\n",
        "  result_image = np.zeros((hei, wid), np.uint8)\n",
        "\n",
        "  # Sliding window\n",
        "  slide_window = np.lib.stride_tricks.sliding_window_view(padded_image, (kernel_dimension,kernel_dimension))\n",
        "  hei_window, wid_window = slide_window.shape[:2]\n",
        "\n",
        "  for i in range(hei):\n",
        "    for j in range(wid):\n",
        "      result_image[i,j] = np.min(slide_window[i,j])\n",
        "\n",
        "  return result_image\n",
        "\n",
        "def erosion(image, kernel_dimension):\n",
        "  hei, wid = image.shape[:2]\n",
        "\n",
        "  if len(image.shape) == 2:\n",
        "    return erosion_channel(image, kernel_dimension)\n",
        "\n",
        "  else:\n",
        "    # Separate channels\n",
        "    channels = cv2.split(image)\n",
        "\n",
        "    # Apply the filter to each channel\n",
        "    new_channels = [erosion_channel(channel, kernel_dimension) for channel in channels]\n",
        "\n",
        "    # Merge channels\n",
        "    result_image = cv2.merge(new_channels)\n",
        "\n",
        "    return result_image"
      ]
    },
    {
      "cell_type": "markdown",
      "source": [
        "**Dilation**"
      ],
      "metadata": {
        "id": "0nZLZpNiP5lj"
      }
    },
    {
      "cell_type": "code",
      "source": [
        "import numpy as np\n",
        "import cv2\n",
        "\n",
        "def dilation_channel(image, kernel_dimension):\n",
        "  d = kernel_dimension // 2\n",
        "  hei, wid = image.shape[:2]\n",
        "\n",
        "  # Add padding to image\n",
        "  padded_image = np.pad(image, d, mode='reflect')\n",
        "\n",
        "  # moving matrix dot\n",
        "  result_image = np.zeros((hei, wid), np.uint8)\n",
        "\n",
        "  # Sliding window\n",
        "  slide_window = np.lib.stride_tricks.sliding_window_view(padded_image, (kernel_dimension,kernel_dimension))\n",
        "  hei_window, wid_window = slide_window.shape[:2]\n",
        "\n",
        "  for i in range(hei):\n",
        "    for j in range(wid):\n",
        "      result_image[i,j] = np.max(slide_window[i,j])\n",
        "\n",
        "  return result_image\n",
        "\n",
        "def dilation(image, kernel_dimension):\n",
        "  hei, wid = image.shape[:2]\n",
        "\n",
        "  if len(image.shape) == 2:\n",
        "    return dilation_channel(image, kernel_dimension)\n",
        "  else:\n",
        "    # Separate channels\n",
        "    channels = cv2.split(image)\n",
        "\n",
        "    # Apply the filter to each channel\n",
        "    new_channels = [dilation_channel(channel, kernel_dimension) for channel in channels]\n",
        "\n",
        "    # Merge channels\n",
        "    result_image = cv2.merge(new_channels)\n",
        "\n",
        "    return result_image"
      ],
      "metadata": {
        "id": "jYsUDbegP7v7"
      },
      "execution_count": null,
      "outputs": []
    },
    {
      "cell_type": "markdown",
      "source": [
        "### Opening/ Closing"
      ],
      "metadata": {
        "id": "Yrxg69bganGJ"
      }
    },
    {
      "cell_type": "code",
      "source": [
        "def opening(image, kernel_dimension):\n",
        "  image = erosion(image, kernel_dimension)\n",
        "  image = dilation(image, kernel_dimension)\n",
        "  return image\n",
        "\n",
        "def closing(image, kernel_dimension):\n",
        "  image = dilation(image, kernel_dimension)\n",
        "  image = erosion(image, kernel_dimension)\n",
        "  return image"
      ],
      "metadata": {
        "id": "zv-0OQH_ap0t"
      },
      "execution_count": null,
      "outputs": []
    },
    {
      "cell_type": "markdown",
      "source": [
        "### Gradient/ Inverse Gradient"
      ],
      "metadata": {
        "id": "psf8HTwqjJCo"
      }
    },
    {
      "cell_type": "code",
      "source": [
        "def gradient(image, kernel_dimension):\n",
        "  eroded_image = erosion(image, kernel_dimension)\n",
        "  dilated_image = dilation(image, kernel_dimension)\n",
        "\n",
        "  result_image = dilated_image - eroded_image\n",
        "  return result_image\n",
        "\n",
        "def inverse_gradient(image, kernel_dimension):\n",
        "  eroded_image = erosion(image, kernel_dimension)\n",
        "  dilated_image = dilation(image, kernel_dimension)\n",
        "\n",
        "  result_image =  eroded_image - dilated_image\n",
        "  return result_image"
      ],
      "metadata": {
        "id": "Vi7BcWW-cEPb"
      },
      "execution_count": null,
      "outputs": []
    },
    {
      "cell_type": "markdown",
      "source": [
        "### Top-Hat/ Black-Hat Transformations"
      ],
      "metadata": {
        "id": "3jmL-AaXq41T"
      }
    },
    {
      "cell_type": "markdown",
      "source": [
        "- Top-Hat Transformation (Difference between the input image and its Opening)\n",
        "\n",
        "- Black-Hat Transformation (Difference between the Closing of the input image and the input image)"
      ],
      "metadata": {
        "id": "1xjLdSKSqzSh"
      }
    },
    {
      "cell_type": "code",
      "source": [
        "def top_hat(image, kernel_dimension):\n",
        "  return image - opening(image, kernel_dimension)\n",
        "\n",
        "def black_hat(image, kernel_dimension):\n",
        "  return closing(image, kernel_dimension) - image"
      ],
      "metadata": {
        "id": "pNNcpBacq8Ap"
      },
      "execution_count": null,
      "outputs": []
    }
  ]
}
